{
 "cells": [
  {
   "cell_type": "code",
   "execution_count": 1,
   "metadata": {},
   "outputs": [],
   "source": [
    "import nltk\n",
    "import numpy as np\n",
    "import random\n",
    "import string\n",
    "import pandas as pd"
   ]
  },
  {
   "cell_type": "code",
   "execution_count": 2,
   "metadata": {},
   "outputs": [],
   "source": [
    "f=open(\"Downloads\\chatbot.txt\",'r',errors= 'ignore')\n",
    "data=f.read() \n",
    "data=data.lower()"
   ]
  },
  {
   "cell_type": "code",
   "execution_count": 3,
   "metadata": {},
   "outputs": [
    {
     "name": "stdout",
     "output_type": "stream",
     "text": [
      "<class 'list'>\n"
     ]
    }
   ],
   "source": [
    "#nltk.download('punkt') #for only first-time\n",
    "#nltk.download('wordnet') #for only first-time\n",
    "sent_tokens=nltk.sent_tokenize(data)\n",
    "print(type(sent_tokens))\n",
    "word_tokens=nltk.word_tokenize(data)"
   ]
  },
  {
   "cell_type": "code",
   "execution_count": 4,
   "metadata": {},
   "outputs": [],
   "source": [
    "import nltk.stem as stem\n",
    "lemmer=stem.WordNetLemmatizer()\n",
    "def LemTokens(tokens):\n",
    "    return [lemmer.lemmatize(token) for token in tokens]\n",
    "remove_punct_dict=dict((ord(punct),None) for punct in string.punctuation)\n",
    "def lemNormalize(text):\n",
    "    return LemTokens(nltk.word_tokenize(text.lower().translate(remove_punct_dict)))"
   ]
  },
  {
   "cell_type": "code",
   "execution_count": 5,
   "metadata": {},
   "outputs": [],
   "source": [
    "GREETING_INPUTS=(\"hello\",\"hi\",\"greetings\",\"sup\",\"whats up\",\"hey\",\"buddy\",'chitti','hi chitti2.0','chitti2.0')\n",
    "GREETING_RESPONSES=['hi','hey','hello','I am glad! you are talking to me']\n",
    "def  greeting(sentence):\n",
    "    for word in sentence.split():\n",
    "        if word.lower() in GREETING_INPUTS:\n",
    "            return random.choice(GREETING_RESPONSES)"
   ]
  },
  {
   "cell_type": "code",
   "execution_count": 6,
   "metadata": {},
   "outputs": [],
   "source": [
    "#for knowing document similarity to return the answer for user questions\n",
    "from sklearn.feature_extraction.text import TfidfVectorizer\n",
    "from sklearn.metrics.pairwise import cosine_similarity"
   ]
  },
  {
   "cell_type": "code",
   "execution_count": 7,
   "metadata": {},
   "outputs": [],
   "source": [
    "def response(user_response):\n",
    "    robo_response=''\n",
    "    TfidfVec=TfidfVectorizer(tokenizer=lemNormalize,stop_words='english')\n",
    "    tfidf=TfidfVec.fit_transform(sent_tokens)\n",
    "    vals=cosine_similarity(tfidf[-1],tfidf)\n",
    "    idx=vals.argsort()[0][-2]\n",
    "    flat=vals.flatten()\n",
    "    flat.sort()\n",
    "    req_tfidf=flat[-2]\n",
    "    if(req_tfidf==0):\n",
    "        robo_response=robo_response+\"I am sorry! I dont understand you\"\n",
    "        return robo_response\n",
    "    else:\n",
    "        robo_response=robo_response+sent_tokens[idx]\n",
    "        return robo_response"
   ]
  },
  {
   "cell_type": "code",
   "execution_count": 9,
   "metadata": {
    "scrolled": false
   },
   "outputs": [
    {
     "name": "stdout",
     "output_type": "stream",
     "text": [
      "hi\n",
      "Chitti2.0:hey\n",
      "dhoni born\n",
      "Chitti2.0:[18]\n",
      "\n",
      "dhoni was born in ranchi, bihar (now in jharkhand),[19] and he identifies as a hindu rajput.\n",
      "batting style\n",
      "Chitti2.0:batting\tright-handed.\n",
      "shirt no\n",
      "Chitti2.0:shirt no7.\n",
      "height of dhoni\n",
      "Chitti2.0:height\t5 ft 10 in (1.78 m).\n",
      "Nickname\n",
      "Chitti2.0:I am sorry! I dont understand you\n",
      "NichnameMahi\n",
      "Chitti2.0:I am sorry! I dont understand you\n",
      "NicknameMahi\n",
      "Chitti2.0:born7 july 1981 (age 37)ranchi, bihar (now jharkhand), india,\n",
      "nicknamemahi, msd, captain cool, thala.\n",
      "chennai super kings\n",
      "Chitti2.0:[114]\n",
      "\n",
      "dhoni was contracted by the chennai super kings for 1.5 million usdthis made him the most expensive player in the ipl for the first season auctions[115] under his captaincy, chennai super kings won the 2010 and 2011 and 2018indian premier league titles and the 2010 and 2014 champions league t20 titles.[116].\n",
      "300 stumpings\n",
      "Chitti2.0:he is quickest when it comes to stumpings.\n",
      "300\n",
      "Chitti2.0:[15] on 14 july 2018 during the second odi against england, dhoni became the first wicket-keeper for india and also became the fourth overall to take 300 catches in odis.\n",
      "finisher\n",
      "Chitti2.0:because of his explosive style of finished matches, he is nicknamed \"the finisher\".\n",
      "icc odi player\n",
      "Chitti2.0:only eleven players have captained ten or more tests playing as a wicket-keeper.\n",
      "icc player\n",
      "Chitti2.0:only eleven players have captained ten or more tests playing as a wicket-keeper.\n",
      "icc player of the year\n",
      "Chitti2.0:only eleven players have captained ten or more tests playing as a wicket-keeper.\n",
      "ICC ODI Batsman rankings\n",
      "Chitti2.0:[72] due to his consistent odi performances, dhoni overtook ricky ponting as number one in the icc odi rankings for batsmen on 20 april 2006.\n",
      "ziva\n",
      "Chitti2.0:[122] dhoni became a father on 6 february 2015 to a baby girl named ziva.\n",
      "wife\n",
      "Chitti2.0:I am sorry! I dont understand you\n",
      "wife ofdhoni\n",
      "Chitti2.0:I am sorry! I dont understand you\n",
      "Dhoni married\n",
      "Chitti2.0:dhoni married sakshi singh rawat, his schoolmate in dav jawahar vidya mandir, shyamali.\n",
      "last test\n",
      "Chitti2.0:in the test series in south africa later that year, dhoni's scores of 34 and 47 were not sufficient to save the second test against the proteas, as india lost the series 2–1, squandering the chance to build on their first ever test victory in south africa (achieved in the first test match).\n",
      "australia test\n",
      "Chitti2.0:[102] he made his debut as full-time test captain of india during the fourth and final test against australia at nagpur in november 2008, replacing anil kumble who was injured in the third test and who then announced his retirement.\n",
      "khel ratna\n",
      "Chitti2.0:dhoni has been the recipient of many awards, including the icc odi player of the year award in 2008 and 2009 (the first player to win the award twice), the rajiv gandhi khel ratna award in 2007, the padma shri, india's fourth highest civilian honour, in 2009 and the padma bhushan, india's third highest civilian honour, in 2018.\n",
      "champions trophy\n",
      "Chitti2.0:in june 2013, when india defeated england in the final of the champions trophy in england, dhoni became the first captain to win all three icc limited-overs trophies (world cup, champions trophy and the world twenty20).\n",
      "bye\n",
      "Chitti2.0: Bye! Take care\n"
     ]
    }
   ],
   "source": [
    "flag=True\n",
    "while(flag==True):\n",
    "    user_response=input()\n",
    "    user_response=user_response.lower()\n",
    "    if(user_response!='bye'):\n",
    "        if(user_response=='thanks' or user_response=='thankyou'):\n",
    "            \n",
    "            print('Chitti2.0:You are Welcome')\n",
    "            flag=False\n",
    "        else:\n",
    "            if(greeting(user_response)!=None):\n",
    "                print('Chitti2.0:'+greeting(user_response))\n",
    "            else:\n",
    "                sent_tokens.append(user_response)\n",
    "                word_tokens=word_tokens+nltk.word_tokenize(user_response)\n",
    "                final_words=list(set(word_tokens))\n",
    "                print('Chitti2.0:',end='')\n",
    "                print(response(user_response))\n",
    "                sent_tokens.remove(user_response)\n",
    "    else:\n",
    "        flag=False\n",
    "        print(\"Chitti2.0: Bye! Take care\")"
   ]
  },
  {
   "cell_type": "code",
   "execution_count": null,
   "metadata": {},
   "outputs": [],
   "source": []
  }
 ],
 "metadata": {
  "kernelspec": {
   "display_name": "Python 3",
   "language": "python",
   "name": "python3"
  },
  "language_info": {
   "codemirror_mode": {
    "name": "ipython",
    "version": 3
   },
   "file_extension": ".py",
   "mimetype": "text/x-python",
   "name": "python",
   "nbconvert_exporter": "python",
   "pygments_lexer": "ipython3",
   "version": "3.6.5"
  }
 },
 "nbformat": 4,
 "nbformat_minor": 2
}
